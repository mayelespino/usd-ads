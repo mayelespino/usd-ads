{
    "metadata": {
        "kernelspec": {
            "name": "python3",
            "display_name": "Python 3",
            "language": "python"
        },
        "language_info": {
            "name": "python",
            "version": "3.6.6",
            "mimetype": "text/x-python",
            "codemirror_mode": {
                "name": "ipython",
                "version": 3
            },
            "pygments_lexer": "ipython3",
            "nbconvert_exporter": "python",
            "file_extension": ".py"
        }
    },
    "nbformat_minor": 2,
    "nbformat": 4,
    "cells": [
        {
            "cell_type": "code",
            "source": [
                "import numpy as np \n",
                "import pandas as pd"
            ],
            "metadata": {
                "azdata_cell_guid": "2701e2d3-001f-4e0c-9a94-9197bb3baae4",
                "tags": [
                    "hide_input"
                ]
            },
            "outputs": [],
            "execution_count": 2
        },
        {
            "cell_type": "code",
            "source": [
                "x = np.array([1, 2, 1, 2, 1, 2, 1, 2, 1])\n",
                "x1, x2, x3 = np.split(x,[3,6])\n",
                "(x1*x2*x3).sum()"
            ],
            "metadata": {
                "azdata_cell_guid": "045faf1d-acbb-4cc4-9130-46ba1bbe71e6"
            },
            "outputs": [
                {
                    "output_type": "execute_result",
                    "execution_count": 5,
                    "data": {
                        "text/plain": "8"
                    },
                    "metadata": {}
                }
            ],
            "execution_count": 5
        },
        {
            "cell_type": "code",
            "source": [
                "import pandas as pd\n",
                "s = pd.Series(np.arange(10,15), index=list('abcde'))\n",
                "list(s['c':'e'])"
            ],
            "metadata": {
                "azdata_cell_guid": "f5e9910f-8d63-4f88-90b4-16786c62fdf3"
            },
            "outputs": [
                {
                    "output_type": "execute_result",
                    "execution_count": 6,
                    "data": {
                        "text/plain": "[12, 13, 14]"
                    },
                    "metadata": {}
                }
            ],
            "execution_count": 6
        }
    ]
}